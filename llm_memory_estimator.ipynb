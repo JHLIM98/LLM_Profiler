{
 "cells": [
  {
   "cell_type": "code",
   "execution_count": 1,
   "id": "85ebd23a",
   "metadata": {},
   "outputs": [],
   "source": [
    "from transformers import AutoConfig\n",
    "from config import from_hf_config, LLMConfig\n",
    "from estimator import LLMestimator"
   ]
  },
  {
   "cell_type": "code",
   "execution_count": 2,
   "id": "cbc152b8",
   "metadata": {},
   "outputs": [],
   "source": [
    "model_id = \"meta-llama/Meta-Llama-3-8B-Instruct\"\n",
    "hf_config = AutoConfig.from_pretrained(model_id)"
   ]
  },
  {
   "cell_type": "code",
   "execution_count": 3,
   "id": "ccec6161",
   "metadata": {},
   "outputs": [],
   "source": [
    "cfg: LLMConfig = from_hf_config(hf_config)"
   ]
  },
  {
   "cell_type": "code",
   "execution_count": 4,
   "id": "bfc30eae",
   "metadata": {},
   "outputs": [],
   "source": [
    "model = LLMestimator(cfg)"
   ]
  },
  {
   "cell_type": "code",
   "execution_count": null,
   "id": "83276818",
   "metadata": {},
   "outputs": [
    {
     "name": "stdout",
     "output_type": "stream",
     "text": [
      "=== LLM Estimator Configuration ===\n",
      "d_model:                4096\n",
      "n_layers:               32\n",
      "n_heads:                32\n",
      "n_kv_heads:             8\n",
      "head_dim:               128\n",
      "mlp_ratio:              3.5\n",
      "intermediate_size:      14336\n",
      "vocab_size:             128256\n",
      "max_position_embeddings:8192\n",
      "weight_dtype:           bfloat16 (2 bytes)\n",
      "kv_dtype:               fp16 (2 bytes)\n",
      "tie_embeddings:         False\n",
      "mlp_type:               silu\n",
      "===================================\n"
     ]
    }
   ],
   "source": [
    "model.summary()"
   ]
  }
 ],
 "metadata": {
  "kernelspec": {
   "display_name": "Rag_Pipeline",
   "language": "python",
   "name": "python3"
  },
  "language_info": {
   "codemirror_mode": {
    "name": "ipython",
    "version": 3
   },
   "file_extension": ".py",
   "mimetype": "text/x-python",
   "name": "python",
   "nbconvert_exporter": "python",
   "pygments_lexer": "ipython3",
   "version": "3.10.16"
  }
 },
 "nbformat": 4,
 "nbformat_minor": 5
}
